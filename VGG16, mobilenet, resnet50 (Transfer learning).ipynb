{
 "cells": [
  {
   "cell_type": "code",
   "execution_count": null,
   "metadata": {
    "colab": {
     "base_uri": "https://localhost:8080/",
     "height": 35
    },
    "executionInfo": {
     "elapsed": 1725,
     "status": "ok",
     "timestamp": 1633429326524,
     "user": {
      "displayName": "Garima Rahangdale",
      "photoUrl": "https://lh3.googleusercontent.com/a/default-user=s64",
      "userId": "12135158262547382026"
     },
     "user_tz": -330
    },
    "id": "qsEqywIR39A0",
    "outputId": "38751d1d-4d3b-4168-e0fb-4962f8c32de0"
   },
   "outputs": [
    {
     "data": {
      "application/vnd.google.colaboratory.intrinsic+json": {
       "type": "string"
      },
      "text/plain": [
       "'2.6.0'"
      ]
     },
     "execution_count": 1,
     "metadata": {},
     "output_type": "execute_result"
    }
   ],
   "source": [
    "# Importing tensorflow and verifying its version\n",
    "%tensorflow_version 2.x\n",
    "import tensorflow\n",
    "tensorflow.__version__"
   ]
  },
  {
   "cell_type": "code",
   "execution_count": null,
   "metadata": {
    "id": "xOLhgM9xvfYD"
   },
   "outputs": [],
   "source": [
    "import numpy as np\n",
    "import pandas as pd\n",
    "import matplotlib.pyplot as plt\n",
    "import seaborn as sns\n",
    "import os\n",
    "import random\n",
    "import pickle\n",
    "from sklearn.preprocessing import LabelBinarizer\n",
    "from sklearn.model_selection import train_test_split\n",
    "from sklearn.metrics import classification_report\n",
    "from sklearn.metrics import f1_score\n",
    "from sklearn.metrics import classification_report, confusion_matrix\n",
    "import cv2\n",
    "from google.colab.patches import cv2_imshow\n",
    "import tensorflow as tf\n",
    "from tensorflow.keras.models import Sequential\n",
    "from tensorflow.keras.layers import *\n",
    "from tensorflow.keras.layers import Dense, Activation, Dropout, Flatten,Conv2D, MaxPooling2D\n",
    "from tensorflow.keras import optimizers\n",
    "\n",
    "from tensorflow.keras.applications import ResNet50, VGG16, VGG19, MobileNetV2\n",
    "from tensorflow.keras.applications.resnet50 import preprocess_input as prepro_res50"
   ]
  },
  {
   "cell_type": "code",
   "execution_count": null,
   "metadata": {
    "id": "m-kKQzT-7Zt_"
   },
   "outputs": [],
   "source": [
    "import random\n",
    "random.seed(0)\n",
    "import warnings\n",
    "warnings.filterwarnings(\"ignore\")"
   ]
  },
  {
   "cell_type": "code",
   "execution_count": null,
   "metadata": {
    "colab": {
     "base_uri": "https://localhost:8080/"
    },
    "executionInfo": {
     "elapsed": 8695,
     "status": "ok",
     "timestamp": 1633429344123,
     "user": {
      "displayName": "Garima Rahangdale",
      "photoUrl": "https://lh3.googleusercontent.com/a/default-user=s64",
      "userId": "12135158262547382026"
     },
     "user_tz": -330
    },
    "id": "2RitoXY1DKW2",
    "outputId": "9fe2c586-8727-4ae9-ed08-8664f3dfae91"
   },
   "outputs": [
    {
     "name": "stdout",
     "output_type": "stream",
     "text": [
      "Downloading data from https://www.cs.toronto.edu/~kriz/cifar-10-python.tar.gz\n",
      "170500096/170498071 [==============================] - 6s 0us/step\n",
      "170508288/170498071 [==============================] - 6s 0us/step\n"
     ]
    },
    {
     "data": {
      "text/plain": [
       "((50000, 32, 32, 3), (10000, 32, 32, 3))"
      ]
     },
     "execution_count": 5,
     "metadata": {},
     "output_type": "execute_result"
    }
   ],
   "source": [
    "# Load the dataset\n",
    "from tensorflow.keras.datasets import cifar10\n",
    "(train_X,train_Y), (test_X,test_Y) = cifar10.load_data() \n",
    "train_X.shape, test_X.shape"
   ]
  },
  {
   "cell_type": "code",
   "execution_count": null,
   "metadata": {
    "colab": {
     "base_uri": "https://localhost:8080/"
    },
    "executionInfo": {
     "elapsed": 19,
     "status": "ok",
     "timestamp": 1633429344124,
     "user": {
      "displayName": "Garima Rahangdale",
      "photoUrl": "https://lh3.googleusercontent.com/a/default-user=s64",
      "userId": "12135158262547382026"
     },
     "user_tz": -330
    },
    "id": "ymokogTKDYVH",
    "outputId": "d62f3d72-c916-4e79-dc5e-8c16f367c8f7"
   },
   "outputs": [
    {
     "data": {
      "text/plain": [
       "((50000, 1), (10000, 1))"
      ]
     },
     "execution_count": 6,
     "metadata": {},
     "output_type": "execute_result"
    }
   ],
   "source": [
    "train_Y.shape, test_Y.shape"
   ]
  },
  {
   "cell_type": "code",
   "execution_count": null,
   "metadata": {
    "colab": {
     "base_uri": "https://localhost:8080/"
    },
    "executionInfo": {
     "elapsed": 1411,
     "status": "ok",
     "timestamp": 1633429345521,
     "user": {
      "displayName": "Garima Rahangdale",
      "photoUrl": "https://lh3.googleusercontent.com/a/default-user=s64",
      "userId": "12135158262547382026"
     },
     "user_tz": -330
    },
    "id": "kEqo7zf9I-h7",
    "outputId": "be99f750-f31a-43b8-f475-6ed46d9960d0"
   },
   "outputs": [
    {
     "name": "stdout",
     "output_type": "stream",
     "text": [
      "Shape of train data: (50000, 32, 32, 3)\n",
      "Shape of test data:: (10000, 32, 32, 3)\n"
     ]
    }
   ],
   "source": [
    "print(\"Shape of train data:\",train_X.shape)\n",
    "print(\"Shape of test data::\",test_X.shape)"
   ]
  },
  {
   "cell_type": "code",
   "execution_count": null,
   "metadata": {
    "colab": {
     "base_uri": "https://localhost:8080/"
    },
    "executionInfo": {
     "elapsed": 11,
     "status": "ok",
     "timestamp": 1633429345522,
     "user": {
      "displayName": "Garima Rahangdale",
      "photoUrl": "https://lh3.googleusercontent.com/a/default-user=s64",
      "userId": "12135158262547382026"
     },
     "user_tz": -330
    },
    "id": "Rj2S-BtPK9vA",
    "outputId": "d75a3a3a-5cb4-4ff6-8d93-d0aaa6a2b94e"
   },
   "outputs": [
    {
     "data": {
      "text/plain": [
       "((50000, 1), (10000, 1))"
      ]
     },
     "execution_count": 8,
     "metadata": {},
     "output_type": "execute_result"
    }
   ],
   "source": [
    "train_Y.shape, test_Y.shape"
   ]
  },
  {
   "cell_type": "code",
   "execution_count": null,
   "metadata": {
    "colab": {
     "base_uri": "https://localhost:8080/",
     "height": 179
    },
    "executionInfo": {
     "elapsed": 10,
     "status": "ok",
     "timestamp": 1633429345525,
     "user": {
      "displayName": "Garima Rahangdale",
      "photoUrl": "https://lh3.googleusercontent.com/a/default-user=s64",
      "userId": "12135158262547382026"
     },
     "user_tz": -330
    },
    "id": "U-TK-J3CMLZ9",
    "outputId": "fd4ab054-b76f-42ac-c456-2dd004eeb3a6"
   },
   "outputs": [
    {
     "data": {
      "image/png": "[encoded data removed]",
      "text/plain": [
       "<Figure size 864x576 with 5 Axes>"
      ]
     },
     "metadata": {
      "needs_background": "light"
     },
     "output_type": "display_data"
    }
   ],
   "source": [
    "def show_img(count, data, label):\n",
    "    fig, axs = plt.subplots(1, count, figsize=(12, 8))\n",
    "    for i in range(0, count):\n",
    "        axs[i].imshow(data[i], label=label[i])\n",
    "        axs[i].set_title('Label: {}'.format(label[i]))\n",
    "        \n",
    "show_img(5, train_X, train_Y)\n",
    "\n",
    "plt.show()"
   ]
  },
  {
   "cell_type": "code",
   "execution_count": null,
   "metadata": {
    "colab": {
     "base_uri": "https://localhost:8080/"
    },
    "executionInfo": {
     "elapsed": 7,
     "status": "ok",
     "timestamp": 1633429349110,
     "user": {
      "displayName": "Garima Rahangdale",
      "photoUrl": "https://lh3.googleusercontent.com/a/default-user=s64",
      "userId": "12135158262547382026"
     },
     "user_tz": -330
    },
    "id": "9MC8rMkT4lgt",
    "outputId": "64bce9a5-3cf2-4fa9-b646-3c870bbdc088"
   },
   "outputs": [
    {
     "data": {
      "text/plain": [
       "9    5000\n",
       "8    5000\n",
       "7    5000\n",
       "6    5000\n",
       "5    5000\n",
       "4    5000\n",
       "3    5000\n",
       "2    5000\n",
       "1    5000\n",
       "0    5000\n",
       "Name: Label, dtype: int64"
      ]
     },
     "execution_count": 10,
     "metadata": {},
     "output_type": "execute_result"
    }
   ],
   "source": [
    "train_label = pd.DataFrame(train_Y, columns = ['Label'])\n",
    "train_label['Label'].value_counts()"
   ]
  },
  {
   "cell_type": "code",
   "execution_count": null,
   "metadata": {
    "colab": {
     "base_uri": "https://localhost:8080/"
    },
    "executionInfo": {
     "elapsed": 11,
     "status": "ok",
     "timestamp": 1633407897240,
     "user": {
      "displayName": "Garima Rahangdale",
      "photoUrl": "https://lh3.googleusercontent.com/a/default-user=s64",
      "userId": "12135158262547382026"
     },
     "user_tz": -330
    },
    "id": "HiUtIiLfUHiO",
    "outputId": "0a996cc1-2167-48b5-8444-5187c3b2ef75"
   },
   "outputs": [
    {
     "name": "stdout",
     "output_type": "stream",
     "text": [
      "(50000, 32, 32, 3)\n",
      "(10000, 32, 32, 3)\n"
     ]
    }
   ],
   "source": [
    "print(train_X.shape)\n",
    "print(test_X.shape)"
   ]
  },
  {
   "cell_type": "code",
   "execution_count": null,
   "metadata": {
    "colab": {
     "base_uri": "https://localhost:8080/"
    },
    "executionInfo": {
     "elapsed": 8,
     "status": "ok",
     "timestamp": 1633407897241,
     "user": {
      "displayName": "Garima Rahangdale",
      "photoUrl": "https://lh3.googleusercontent.com/a/default-user=s64",
      "userId": "12135158262547382026"
     },
     "user_tz": -330
    },
    "id": "G6sfaOFHDx6z",
    "outputId": "88c4c18a-17f4-40d9-ea26-47c261e9e6ff"
   },
   "outputs": [
    {
     "data": {
      "text/plain": [
       "array([[ 59,  62,  63],\n",
       "       [ 43,  46,  45],\n",
       "       [ 50,  48,  43],\n",
       "       [ 68,  54,  42],\n",
       "       [ 98,  73,  52],\n",
       "       [119,  91,  63],\n",
       "       [139, 107,  75],\n",
       "       [145, 110,  80],\n",
       "       [149, 117,  89],\n",
       "       [149, 120,  93],\n",
       "       [131, 103,  77],\n",
       "       [125,  99,  76],\n",
       "       [142, 115,  91],\n",
       "       [144, 112,  86],\n",
       "       [137, 105,  79],\n",
       "       [129,  97,  71],\n",
       "       [137, 106,  79],\n",
       "       [134, 106,  76],\n",
       "       [124,  97,  64],\n",
       "       [139, 113,  78],\n",
       "       [139, 112,  75],\n",
       "       [133, 105,  69],\n",
       "       [136, 105,  74],\n",
       "       [139, 108,  77],\n",
       "       [152, 120,  89],\n",
       "       [163, 131, 100],\n",
       "       [168, 136, 108],\n",
       "       [159, 129, 102],\n",
       "       [158, 130, 104],\n",
       "       [158, 132, 108],\n",
       "       [152, 125, 102],\n",
       "       [148, 124, 103]], dtype=uint8)"
      ]
     },
     "execution_count": 12,
     "metadata": {},
     "output_type": "execute_result"
    }
   ],
   "source": [
    "train_X[0][0]"
   ]
  },
  {
   "cell_type": "code",
   "execution_count": null,
   "metadata": {
    "id": "QWdYpAlGyPOC"
   },
   "outputs": [],
   "source": [
    "# scale the raw pixel intensities to the range [0, 1]\n",
    "train_X_std = train_X / 255.0\n",
    "test_X_std = test_X / 255.0"
   ]
  },
  {
   "cell_type": "code",
   "execution_count": null,
   "metadata": {
    "colab": {
     "base_uri": "https://localhost:8080/"
    },
    "executionInfo": {
     "elapsed": 27,
     "status": "ok",
     "timestamp": 1633407899488,
     "user": {
      "displayName": "Garima Rahangdale",
      "photoUrl": "https://lh3.googleusercontent.com/a/default-user=s64",
      "userId": "12135158262547382026"
     },
     "user_tz": -330
    },
    "id": "fkjveloWAC0G",
    "outputId": "04daeae2-6557-46b7-9158-13abd38a104d"
   },
   "outputs": [
    {
     "data": {
      "text/plain": [
       "(50000, 32, 32, 3)"
      ]
     },
     "execution_count": 14,
     "metadata": {},
     "output_type": "execute_result"
    }
   ],
   "source": [
    "# Check few values\n",
    "train_X_std.shape"
   ]
  },
  {
   "cell_type": "code",
   "execution_count": null,
   "metadata": {
    "colab": {
     "base_uri": "https://localhost:8080/"
    },
    "executionInfo": {
     "elapsed": 17,
     "status": "ok",
     "timestamp": 1633407899490,
     "user": {
      "displayName": "Garima Rahangdale",
      "photoUrl": "https://lh3.googleusercontent.com/a/default-user=s64",
      "userId": "12135158262547382026"
     },
     "user_tz": -330
    },
    "id": "EvKuFXMIAHLs",
    "outputId": "e05457b0-d187-4b94-c53b-6feac9341b2a"
   },
   "outputs": [
    {
     "data": {
      "text/plain": [
       "array([[0.71764706, 0.71764706, 0.68627451],\n",
       "       [0.42352941, 0.45490196, 0.47843137],\n",
       "       [0.55686275, 0.59215686, 0.61960784],\n",
       "       [0.64705882, 0.6627451 , 0.65882353],\n",
       "       [0.69411765, 0.61176471, 0.47843137],\n",
       "       [0.60784314, 0.43921569, 0.19607843],\n",
       "       [0.62352941, 0.4627451 , 0.2       ],\n",
       "       [0.47843137, 0.34901961, 0.18431373],\n",
       "       [0.83529412, 0.77254902, 0.70196078],\n",
       "       [0.92941176, 0.87843137, 0.88627451],\n",
       "       [0.8627451 , 0.74901961, 0.7372549 ],\n",
       "       [0.64313725, 0.52941176, 0.51372549],\n",
       "       [0.71764706, 0.62352941, 0.60784314],\n",
       "       [0.61176471, 0.5372549 , 0.51764706],\n",
       "       [0.49019608, 0.42352941, 0.40784314],\n",
       "       [0.47058824, 0.43529412, 0.40784314],\n",
       "       [0.30588235, 0.29803922, 0.27058824],\n",
       "       [0.31372549, 0.31372549, 0.30196078],\n",
       "       [0.17647059, 0.17254902, 0.15686275],\n",
       "       [0.35686275, 0.33333333, 0.30196078],\n",
       "       [0.68627451, 0.64705882, 0.60392157],\n",
       "       [0.61568627, 0.57647059, 0.5372549 ],\n",
       "       [0.60784314, 0.57647059, 0.54117647],\n",
       "       [0.41960784, 0.39215686, 0.36078431],\n",
       "       [0.34117647, 0.3254902 , 0.30196078],\n",
       "       [0.40392157, 0.4       , 0.37647059],\n",
       "       [0.34509804, 0.34509804, 0.30980392],\n",
       "       [0.30588235, 0.30980392, 0.28627451],\n",
       "       [0.23137255, 0.23137255, 0.23137255],\n",
       "       [0.16078431, 0.14117647, 0.12941176],\n",
       "       [0.23137255, 0.18039216, 0.12156863],\n",
       "       [0.40784314, 0.31764706, 0.18039216]])"
      ]
     },
     "execution_count": 15,
     "metadata": {},
     "output_type": "execute_result"
    }
   ],
   "source": [
    "# Check few values\n",
    "test_X_std[0][10]"
   ]
  },
  {
   "cell_type": "code",
   "execution_count": null,
   "metadata": {
    "id": "oUYOXD89r6PQ"
   },
   "outputs": [],
   "source": [
    "# save encoded targets\n",
    "from tensorflow.keras.utils import to_categorical\n",
    "NUM_CLASSES =10\n",
    "train_Y_cat = to_categorical(train_Y, NUM_CLASSES)\n",
    "test_Y_cat = to_categorical(test_Y, NUM_CLASSES)"
   ]
  },
  {
   "cell_type": "code",
   "execution_count": null,
   "metadata": {
    "colab": {
     "base_uri": "https://localhost:8080/"
    },
    "executionInfo": {
     "elapsed": 62,
     "status": "ok",
     "timestamp": 1633407902161,
     "user": {
      "displayName": "Garima Rahangdale",
      "photoUrl": "https://lh3.googleusercontent.com/a/default-user=s64",
      "userId": "12135158262547382026"
     },
     "user_tz": -330
    },
    "id": "ou-9OtWPXuiG",
    "outputId": "db1f1682-5b51-4405-d544-3e2e0fd2b3a9"
   },
   "outputs": [
    {
     "name": "stdout",
     "output_type": "stream",
     "text": [
      "(50000, 10)\n",
      "(10000, 10)\n"
     ]
    }
   ],
   "source": [
    "print(train_Y_cat.shape)\n",
    "print(test_Y_cat.shape)"
   ]
  },
  {
   "cell_type": "code",
   "execution_count": null,
   "metadata": {
    "id": "1oGTAJxJ5fDz"
   },
   "outputs": [],
   "source": [
    "# Define variables\n",
    "\n",
    "IMG_ROWS = 32\n",
    "IMG_COLS = 32\n",
    "NUM_CLASSES = 10\n",
    "TEST_SIZE = 0.3\n",
    "RANDOM_STATE = 42\n",
    "\n",
    "#Model\n",
    "NO_EPOCHS = 50\n",
    "BATCH_SIZE = 32\n",
    "input_shape = (32, 32, 3)"
   ]
  },
  {
   "cell_type": "code",
   "execution_count": null,
   "metadata": {
    "id": "5t88ueTD4qA3"
   },
   "outputs": [],
   "source": [
    "model_cnn = Sequential()\n",
    "model_cnn.add(Conv2D(32, kernel_size=(3, 3),\n",
    "                 activation='relu',\n",
    "                 kernel_initializer='he_normal',\n",
    "                 input_shape=input_shape))\n",
    "model_cnn.add(MaxPooling2D((2, 2)))\n",
    "model_cnn.add(Conv2D(64, \n",
    "                 kernel_size=(3, 3), \n",
    "                 activation='relu'))\n",
    "model_cnn.add(MaxPooling2D(pool_size=(2, 2)))\n",
    "model_cnn.add(Conv2D(128, (3, 3), activation='relu'))\n",
    "model_cnn.add(Conv2D(128, (3, 3), activation='relu'))\n",
    "model_cnn.add(Flatten())\n",
    "model_cnn.add(Dense(128, activation='relu'))\n",
    "model_cnn.add(Dropout(0.5))\n",
    "model_cnn.add(Dense(128, activation='relu'))\n",
    "model_cnn.add(Dense(NUM_CLASSES, activation='softmax'))"
   ]
  },
  {
   "cell_type": "code",
   "execution_count": null,
   "metadata": {
    "colab": {
     "base_uri": "https://localhost:8080/"
    },
    "executionInfo": {
     "elapsed": 9,
     "status": "ok",
     "timestamp": 1633354773144,
     "user": {
      "displayName": "Garima Rahangdale",
      "photoUrl": "https://lh3.googleusercontent.com/a/default-user=s64",
      "userId": "12135158262547382026"
     },
     "user_tz": -330
    },
    "id": "F6hPw1y73Ctj",
    "outputId": "cac77107-8b40-4a78-de0c-7868f5da149e"
   },
   "outputs": [
    {
     "name": "stdout",
     "output_type": "stream",
     "text": [
      "Model: \"sequential_1\"\n",
      "_________________________________________________________________\n",
      "Layer (type)                 Output Shape              Param #   \n",
      "=================================================================\n",
      "conv2d_4 (Conv2D)            (None, 30, 30, 32)        896       \n",
      "_________________________________________________________________\n",
      "max_pooling2d_2 (MaxPooling2 (None, 15, 15, 32)        0         \n",
      "_________________________________________________________________\n",
      "conv2d_5 (Conv2D)            (None, 13, 13, 64)        18496     \n",
      "_________________________________________________________________\n",
      "max_pooling2d_3 (MaxPooling2 (None, 6, 6, 64)          0         \n",
      "_________________________________________________________________\n",
      "conv2d_6 (Conv2D)            (None, 4, 4, 128)         73856     \n",
      "_________________________________________________________________\n",
      "conv2d_7 (Conv2D)            (None, 2, 2, 128)         147584    \n",
      "_________________________________________________________________\n",
      "flatten_1 (Flatten)          (None, 512)               0         \n",
      "_________________________________________________________________\n",
      "dense_3 (Dense)              (None, 128)               65664     \n",
      "_________________________________________________________________\n",
      "dropout_1 (Dropout)          (None, 128)               0         \n",
      "_________________________________________________________________\n",
      "dense_4 (Dense)              (None, 128)               16512     \n",
      "_________________________________________________________________\n",
      "dense_5 (Dense)              (None, 10)                1290      \n",
      "=================================================================\n",
      "Total params: 324,298\n",
      "Trainable params: 324,298\n",
      "Non-trainable params: 0\n",
      "_________________________________________________________________\n"
     ]
    }
   ],
   "source": [
    "model_cnn.summary()"
   ]
  },
  {
   "cell_type": "code",
   "execution_count": null,
   "metadata": {
    "id": "qN8H8Nw5ufye"
   },
   "outputs": [],
   "source": [
    "# initialize the model and optimizer \n",
    "sgd= optimizers.SGD(lr= 0.001,momentum=.9)\n",
    "rms = optimizers.RMSprop()\n",
    "model_cnn.compile(loss=\"categorical_crossentropy\", optimizer=sgd,\tmetrics=[\"accuracy\"])"
   ]
  },
  {
   "cell_type": "code",
   "execution_count": null,
   "metadata": {
    "colab": {
     "base_uri": "https://localhost:8080/"
    },
    "executionInfo": {
     "elapsed": 449971,
     "status": "ok",
     "timestamp": 1633355234510,
     "user": {
      "displayName": "Garima Rahangdale",
      "photoUrl": "https://lh3.googleusercontent.com/a/default-user=s64",
      "userId": "12135158262547382026"
     },
     "user_tz": -330
    },
    "id": "8yjOeHFu4ndi",
    "outputId": "373358ba-35fe-4cea-f070-1f84324618a0"
   },
   "outputs": [
    {
     "name": "stdout",
     "output_type": "stream",
     "text": [
      "Epoch 1/25\n",
      "1563/1563 [==============================] - 49s 11ms/step - loss: 2.1001 - accuracy: 0.2030 - val_loss: 1.7882 - val_accuracy: 0.3379\n",
      "Epoch 2/25\n",
      "1563/1563 [==============================] - 15s 10ms/step - loss: 1.7198 - accuracy: 0.3621 - val_loss: 1.5201 - val_accuracy: 0.4451\n",
      "Epoch 3/25\n",
      "1563/1563 [==============================] - 16s 10ms/step - loss: 1.5306 - accuracy: 0.4406 - val_loss: 1.3590 - val_accuracy: 0.5012\n",
      "Epoch 4/25\n",
      "1563/1563 [==============================] - 16s 11ms/step - loss: 1.4051 - accuracy: 0.4910 - val_loss: 1.3294 - val_accuracy: 0.5094\n",
      "Epoch 5/25\n",
      "1563/1563 [==============================] - 16s 11ms/step - loss: 1.3215 - accuracy: 0.5247 - val_loss: 1.2149 - val_accuracy: 0.5564\n",
      "Epoch 6/25\n",
      "1563/1563 [==============================] - 17s 11ms/step - loss: 1.2504 - accuracy: 0.5519 - val_loss: 1.1851 - val_accuracy: 0.5690\n",
      "Epoch 7/25\n",
      "1563/1563 [==============================] - 17s 11ms/step - loss: 1.1853 - accuracy: 0.5769 - val_loss: 1.1672 - val_accuracy: 0.5750\n",
      "Epoch 8/25\n",
      "1563/1563 [==============================] - 18s 11ms/step - loss: 1.1270 - accuracy: 0.5998 - val_loss: 1.0559 - val_accuracy: 0.6190\n",
      "Epoch 9/25\n",
      "1563/1563 [==============================] - 16s 10ms/step - loss: 1.0773 - accuracy: 0.6200 - val_loss: 1.0273 - val_accuracy: 0.6314\n",
      "Epoch 10/25\n",
      "1563/1563 [==============================] - 16s 11ms/step - loss: 1.0333 - accuracy: 0.6375 - val_loss: 0.9757 - val_accuracy: 0.6531\n",
      "Epoch 11/25\n",
      "1563/1563 [==============================] - 17s 11ms/step - loss: 0.9844 - accuracy: 0.6544 - val_loss: 0.9521 - val_accuracy: 0.6639\n",
      "Epoch 12/25\n",
      "1563/1563 [==============================] - 17s 11ms/step - loss: 0.9398 - accuracy: 0.6707 - val_loss: 0.9088 - val_accuracy: 0.6791\n",
      "Epoch 13/25\n",
      "1563/1563 [==============================] - 18s 11ms/step - loss: 0.8967 - accuracy: 0.6880 - val_loss: 0.8996 - val_accuracy: 0.6827\n",
      "Epoch 14/25\n",
      "1563/1563 [==============================] - 18s 11ms/step - loss: 0.8631 - accuracy: 0.6976 - val_loss: 0.8721 - val_accuracy: 0.6943\n",
      "Epoch 15/25\n",
      "1563/1563 [==============================] - 17s 11ms/step - loss: 0.8277 - accuracy: 0.7112 - val_loss: 0.8751 - val_accuracy: 0.6974\n",
      "Epoch 16/25\n",
      "1563/1563 [==============================] - 16s 11ms/step - loss: 0.7948 - accuracy: 0.7244 - val_loss: 0.8839 - val_accuracy: 0.6982\n",
      "Epoch 17/25\n",
      "1563/1563 [==============================] - 18s 11ms/step - loss: 0.7631 - accuracy: 0.7356 - val_loss: 0.8370 - val_accuracy: 0.7192\n",
      "Epoch 18/25\n",
      "1563/1563 [==============================] - 16s 10ms/step - loss: 0.7262 - accuracy: 0.7461 - val_loss: 0.8052 - val_accuracy: 0.7264\n",
      "Epoch 19/25\n",
      "1563/1563 [==============================] - 16s 10ms/step - loss: 0.7039 - accuracy: 0.7574 - val_loss: 0.8293 - val_accuracy: 0.7130\n",
      "Epoch 20/25\n",
      "1563/1563 [==============================] - 16s 10ms/step - loss: 0.6738 - accuracy: 0.7657 - val_loss: 0.9515 - val_accuracy: 0.6909\n",
      "Epoch 21/25\n",
      "1563/1563 [==============================] - 16s 10ms/step - loss: 0.6415 - accuracy: 0.7770 - val_loss: 0.8021 - val_accuracy: 0.7270\n",
      "Epoch 22/25\n",
      "1563/1563 [==============================] - 16s 11ms/step - loss: 0.6183 - accuracy: 0.7858 - val_loss: 0.8967 - val_accuracy: 0.7015\n",
      "Epoch 23/25\n",
      "1563/1563 [==============================] - 16s 11ms/step - loss: 0.5908 - accuracy: 0.7928 - val_loss: 0.7957 - val_accuracy: 0.7330\n",
      "Epoch 24/25\n",
      "1563/1563 [==============================] - 18s 11ms/step - loss: 0.5656 - accuracy: 0.8035 - val_loss: 0.8065 - val_accuracy: 0.7298\n",
      "Epoch 25/25\n",
      "1563/1563 [==============================] - 16s 10ms/step - loss: 0.5382 - accuracy: 0.8120 - val_loss: 0.8141 - val_accuracy: 0.7317\n",
      "****** 449.6438159942627 seconds\n"
     ]
    }
   ],
   "source": [
    "import time\n",
    "start_time = time.time()\n",
    "cnn_history = model_cnn.fit(train_X_std, train_Y_cat, batch_size =BATCH_SIZE, epochs= 25,\n",
    "                            validation_data=(test_X_std,test_Y_cat))\n",
    "\n",
    "print(\"****** %s seconds\" % (time.time() - start_time))"
   ]
  },
  {
   "cell_type": "code",
   "execution_count": null,
   "metadata": {
    "colab": {
     "base_uri": "https://localhost:8080/"
    },
    "executionInfo": {
     "elapsed": 6467,
     "status": "ok",
     "timestamp": 1633355253060,
     "user": {
      "displayName": "Garima Rahangdale",
      "photoUrl": "https://lh3.googleusercontent.com/a/default-user=s64",
      "userId": "12135158262547382026"
     },
     "user_tz": -330
    },
    "id": "5hbNQPQGdMZI",
    "outputId": "404f4c4d-b4e3-4408-8e36-2ac9cfaa2668"
   },
   "outputs": [
    {
     "name": "stdout",
     "output_type": "stream",
     "text": [
      "313/313 [==============================] - 2s 5ms/step - loss: 0.8141 - accuracy: 0.7317\n",
      "Test accuracy:  0.7317000031471252\n",
      "[[780  14  59  29  28   2   9  13  42  24]\n",
      " [ 33 832   9  14   8   7  18   4  20  55]\n",
      " [ 60   2 647  78  93  49  37  26   5   3]\n",
      " [ 18   3  84 615  73 122  47  27   4   7]\n",
      " [ 12   1  65  55 748  19  44  50   6   0]\n",
      " [  5   3  53 213  56 611  13  42   1   3]\n",
      " [  4   6  55  71  45  16 797   2   3   1]\n",
      " [ 12   0  40  48  88  59   6 744   0   3]\n",
      " [ 75  27  17  27   9   7   4   3 809  22]\n",
      " [ 49  82  10  28  10  10  12  33  32 734]]\n"
     ]
    }
   ],
   "source": [
    "results = model_cnn.evaluate(test_X_std, test_Y_cat)\n",
    "print('Test accuracy: ', results[1])\n",
    "\n",
    "# evaluate the network\n",
    "from sklearn.metrics import classification_report, confusion_matrix\n",
    "\n",
    "pred = model_cnn.predict(test_X_std, batch_size=32)\n",
    "\n",
    "print(confusion_matrix(test_Y_cat.argmax(axis=1), pred.argmax(axis=1))) "
   ]
  },
  {
   "cell_type": "code",
   "execution_count": null,
   "metadata": {
    "colab": {
     "base_uri": "https://localhost:8080/"
    },
    "executionInfo": {
     "elapsed": 22,
     "status": "ok",
     "timestamp": 1633355376648,
     "user": {
      "displayName": "Garima Rahangdale",
      "photoUrl": "https://lh3.googleusercontent.com/a/default-user=s64",
      "userId": "12135158262547382026"
     },
     "user_tz": -330
    },
    "id": "Go6LKiqxiNKA",
    "outputId": "c05f7596-3a29-4622-b1a5-42682577fd49"
   },
   "outputs": [
    {
     "data": {
      "text/plain": [
       "0.7343602488938222"
      ]
     },
     "execution_count": 46,
     "metadata": {},
     "output_type": "execute_result"
    }
   ],
   "source": [
    "from sklearn.metrics import f1_score\n",
    "f1_score(test_Y, pred.argmax(axis=1), average = 'weighted')"
   ]
  },
  {
   "cell_type": "code",
   "execution_count": null,
   "metadata": {
    "colab": {
     "base_uri": "https://localhost:8080/"
    },
    "executionInfo": {
     "elapsed": 3177,
     "status": "ok",
     "timestamp": 1633356885911,
     "user": {
      "displayName": "Garima Rahangdale",
      "photoUrl": "https://lh3.googleusercontent.com/a/default-user=s64",
      "userId": "12135158262547382026"
     },
     "user_tz": -330
    },
    "id": "6K-gpG-xtqgi",
    "outputId": "2e9ef170-7044-4fbf-bc74-682df46d7334"
   },
   "outputs": [
    {
     "name": "stdout",
     "output_type": "stream",
     "text": [
      "Model: \"sequential\"\n",
      "_________________________________________________________________\n",
      "Layer (type)                 Output Shape              Param #   \n",
      "=================================================================\n",
      "vgg16 (Functional)           (None, 1, 1, 512)         14714688  \n",
      "_________________________________________________________________\n",
      "flatten (Flatten)            (None, 512)               0         \n",
      "_________________________________________________________________\n",
      "dense (Dense)                (None, 512)               262656    \n",
      "_________________________________________________________________\n",
      "dropout (Dropout)            (None, 512)               0         \n",
      "_________________________________________________________________\n",
      "dense_1 (Dense)              (None, 256)               131328    \n",
      "_________________________________________________________________\n",
      "dropout_1 (Dropout)          (None, 256)               0         \n",
      "_________________________________________________________________\n",
      "dense_2 (Dense)              (None, 128)               32896     \n",
      "_________________________________________________________________\n",
      "dropout_2 (Dropout)          (None, 128)               0         \n",
      "_________________________________________________________________\n",
      "dense_3 (Dense)              (None, 128)               16512     \n",
      "_________________________________________________________________\n",
      "dropout_3 (Dropout)          (None, 128)               0         \n",
      "_________________________________________________________________\n",
      "dense_4 (Dense)              (None, 10)                1290      \n",
      "=================================================================\n",
      "Total params: 15,159,370\n",
      "Trainable params: 7,524,106\n",
      "Non-trainable params: 7,635,264\n",
      "_________________________________________________________________\n"
     ]
    }
   ],
   "source": [
    "from tensorflow.keras.applications import VGG16\n",
    "from tensorflow.keras.layers import Input\n",
    "\n",
    "img_input = (32, 32, 3)\n",
    "vgg_conv = VGG16(weights='imagenet', include_top=False, input_shape=img_input)\n",
    "\n",
    "\n",
    "for layer in vgg_conv.layers[:-5]:\n",
    "    layer.trainable = False\n",
    " \n",
    " \n",
    "\n",
    "model_vgg = Sequential()\n",
    " \n",
    "\n",
    "model_vgg.add(vgg_conv)\n",
    " \n",
    "\n",
    "model_vgg.add(Flatten())\n",
    "model_vgg.add(Dense(512, activation='relu'))\n",
    "model_vgg.add(Dropout(0.5))\n",
    "model_vgg.add(Dense(256, activation='relu'))\n",
    "model_vgg.add(Dropout(0.5))\n",
    "model_vgg.add(Dense(128, activation='relu'))\n",
    "model_vgg.add(Dropout(0.3))\n",
    "model_vgg.add(Dense(128, activation='relu'))\n",
    "model_vgg.add(Dropout(0.3))\n",
    "\n",
    "\n",
    "model_vgg.add(Dense(10, activation='softmax'))\n",
    "model_vgg.summary() "
   ]
  },
  {
   "cell_type": "code",
   "execution_count": null,
   "metadata": {
    "id": "FH-K0NTTEaiY"
   },
   "outputs": [],
   "source": [
    "# initialize the model and optimizer\n",
    "sgd= optimizers.SGD(lr= 0.001,momentum=.9)\n",
    "model_vgg.compile(loss=\"categorical_crossentropy\", optimizer=sgd,\n",
    "                  metrics=[\"accuracy\"])"
   ]
  },
  {
   "cell_type": "code",
   "execution_count": null,
   "metadata": {
    "colab": {
     "background_save": true,
     "base_uri": "https://localhost:8080/"
    },
    "id": "JlQgT9In5PQL",
    "outputId": "af98bf8a-aa3e-43fe-9882-e4159dde8d34"
   },
   "outputs": [
    {
     "name": "stdout",
     "output_type": "stream",
     "text": [
      "Epoch 1/25\n",
      "1563/1563 [==============================] - 60s 33ms/step - loss: 1.8995 - accuracy: 0.2779 - val_loss: 1.3512 - val_accuracy: 0.5021\n",
      "Epoch 2/25\n",
      "1563/1563 [==============================] - 51s 33ms/step - loss: 1.3048 - accuracy: 0.5390 - val_loss: 1.1461 - val_accuracy: 0.6036\n",
      "Epoch 3/25\n",
      "1563/1563 [==============================] - 51s 33ms/step - loss: 1.1125 - accuracy: 0.6268 - val_loss: 0.9909 - val_accuracy: 0.6618\n",
      "Epoch 4/25\n",
      "1563/1563 [==============================] - 52s 33ms/step - loss: 1.0064 - accuracy: 0.6678 - val_loss: 0.9169 - val_accuracy: 0.6980\n",
      "Epoch 5/25\n",
      "1563/1563 [==============================] - 51s 33ms/step - loss: 0.9288 - accuracy: 0.6984 - val_loss: 0.8786 - val_accuracy: 0.7055\n",
      "Epoch 6/25\n",
      "1563/1563 [==============================] - 51s 33ms/step - loss: 0.8622 - accuracy: 0.7208 - val_loss: 0.8764 - val_accuracy: 0.7090\n",
      "Epoch 7/25\n",
      "1563/1563 [==============================] - 51s 33ms/step - loss: 0.8152 - accuracy: 0.7377 - val_loss: 0.8568 - val_accuracy: 0.7183\n",
      "Epoch 8/25\n",
      "1563/1563 [==============================] - 51s 33ms/step - loss: 0.7580 - accuracy: 0.7553 - val_loss: 0.8068 - val_accuracy: 0.7349\n",
      "Epoch 9/25\n",
      "1563/1563 [==============================] - 51s 33ms/step - loss: 0.7140 - accuracy: 0.7707 - val_loss: 0.8063 - val_accuracy: 0.7421\n",
      "Epoch 10/25\n",
      "1563/1563 [==============================] - 51s 33ms/step - loss: 0.6784 - accuracy: 0.7828 - val_loss: 0.8042 - val_accuracy: 0.7440\n",
      "Epoch 11/25\n",
      "1563/1563 [==============================] - 51s 32ms/step - loss: 0.6324 - accuracy: 0.7974 - val_loss: 0.8093 - val_accuracy: 0.7408\n",
      "Epoch 12/25\n",
      "1563/1563 [==============================] - 51s 33ms/step - loss: 0.5949 - accuracy: 0.8103 - val_loss: 0.8277 - val_accuracy: 0.7444\n",
      "Epoch 13/25\n",
      "1563/1563 [==============================] - 51s 33ms/step - loss: 0.5588 - accuracy: 0.8205 - val_loss: 0.8794 - val_accuracy: 0.7390\n",
      "Epoch 14/25\n",
      "1563/1563 [==============================] - 51s 32ms/step - loss: 0.5252 - accuracy: 0.8330 - val_loss: 0.8733 - val_accuracy: 0.7369\n",
      "Epoch 15/25\n",
      "1563/1563 [==============================] - 51s 32ms/step - loss: 0.4960 - accuracy: 0.8399 - val_loss: 0.8760 - val_accuracy: 0.7390\n",
      "Epoch 16/25\n",
      "1563/1563 [==============================] - 51s 32ms/step - loss: 0.4597 - accuracy: 0.8532 - val_loss: 0.9441 - val_accuracy: 0.7218\n",
      "Epoch 17/25\n",
      "1563/1563 [==============================] - 50s 32ms/step - loss: 0.4274 - accuracy: 0.8637 - val_loss: 0.9802 - val_accuracy: 0.7281\n",
      "Epoch 18/25\n",
      "1563/1563 [==============================] - 50s 32ms/step - loss: 0.4067 - accuracy: 0.8724 - val_loss: 0.9486 - val_accuracy: 0.7395\n",
      "Epoch 19/25\n",
      "1563/1563 [==============================] - 51s 33ms/step - loss: 0.3790 - accuracy: 0.8789 - val_loss: 0.9837 - val_accuracy: 0.7368\n",
      "Epoch 20/25\n",
      "1563/1563 [==============================] - 56s 36ms/step - loss: 0.3625 - accuracy: 0.8866 - val_loss: 0.9870 - val_accuracy: 0.7401\n",
      "Epoch 21/25\n",
      "1563/1563 [==============================] - 51s 33ms/step - loss: 0.3343 - accuracy: 0.8940 - val_loss: 1.0158 - val_accuracy: 0.7414\n",
      "Epoch 22/25\n",
      "1563/1563 [==============================] - 51s 32ms/step - loss: 0.3089 - accuracy: 0.9028 - val_loss: 1.0588 - val_accuracy: 0.7402\n",
      "Epoch 23/25\n",
      "1563/1563 [==============================] - 51s 32ms/step - loss: 0.2958 - accuracy: 0.9073 - val_loss: 1.0202 - val_accuracy: 0.7466\n",
      "Epoch 24/25\n",
      "1563/1563 [==============================] - 51s 32ms/step - loss: 0.2733 - accuracy: 0.9159 - val_loss: 1.0778 - val_accuracy: 0.7371\n",
      "Epoch 25/25\n",
      "1563/1563 [==============================] - 50s 32ms/step - loss: 0.2387 - accuracy: 0.9265 - val_loss: 1.0794 - val_accuracy: 0.7444\n",
      "1344.1404600143433 seconds\n"
     ]
    }
   ],
   "source": [
    "import time\n",
    "start_time = time.time()\n",
    "\n",
    "vgg_history = model_vgg.fit(train_X_std, train_Y_cat, batch_size =BATCH_SIZE, epochs= 25,\n",
    "                            validation_data=(test_X_std,test_Y_cat))\n",
    "\n",
    "print(\"%s seconds\" % (time.time() - start_time))"
   ]
  },
  {
   "cell_type": "code",
   "execution_count": null,
   "metadata": {
    "colab": {
     "background_save": true
    },
    "id": "75ULlIoJun3v",
    "outputId": "ad574875-2af3-4fc8-e1a7-d72259b286bd"
   },
   "outputs": [
    {
     "name": "stdout",
     "output_type": "stream",
     "text": [
      "313/313 [==============================] - 6s 19ms/step - loss: 1.0794 - accuracy: 0.7444\n",
      "[[793  16  32   9  17   4  12   8  86  23]\n",
      " [ 10 827   9   6   0   6   9   2  44  87]\n",
      " [ 51   6 690  24  78  28  79  27   9   8]\n",
      " [ 19  12  63 395  56 218 112  75  21  29]\n",
      " [ 14   2  65  29 706  37  52  71  10  14]\n",
      " [ 10   4  42 113  34 663  42  76   5  11]\n",
      " [  7   4  38  26  45  18 837   4  12   9]\n",
      " [ 13   3  24  12  49  38  12 828   2  19]\n",
      " [ 33  22  11   2  13   3   4   1 895  16]\n",
      " [ 25  73   5  10   6   7   5  18  41 810]]\n"
     ]
    }
   ],
   "source": [
    "results = model_vgg.evaluate(test_X_std, test_Y_cat)\n",
    "\n",
    "# evaluate the network\n",
    "from sklearn.metrics import classification_report, confusion_matrix\n",
    "\n",
    "pred_vgg = model_vgg.predict(test_X_std, batch_size=32)\n",
    "\n",
    "print(confusion_matrix(test_Y_cat.argmax(axis=1), pred_vgg.argmax(axis=1))) "
   ]
  },
  {
   "cell_type": "code",
   "execution_count": null,
   "metadata": {
    "colab": {
     "base_uri": "https://localhost:8080/"
    },
    "executionInfo": {
     "elapsed": 2498,
     "status": "ok",
     "timestamp": 1633435559231,
     "user": {
      "displayName": "Garima Rahangdale",
      "photoUrl": "https://lh3.googleusercontent.com/a/default-user=s64",
      "userId": "12135158262547382026"
     },
     "user_tz": -330
    },
    "id": "hrf4pqSZF7zS",
    "outputId": "4c1171f7-ce72-4aae-96ec-79a88befc7e9"
   },
   "outputs": [
    {
     "name": "stdout",
     "output_type": "stream",
     "text": [
      "Model: \"sequential_5\"\n",
      "_________________________________________________________________\n",
      "Layer (type)                 Output Shape              Param #   \n",
      "=================================================================\n",
      "resnet50 (Functional)        (None, 1, 1, 2048)        23587712  \n",
      "_________________________________________________________________\n",
      "flatten_5 (Flatten)          (None, 2048)              0         \n",
      "_________________________________________________________________\n",
      "dense_23 (Dense)             (None, 512)               1049088   \n",
      "_________________________________________________________________\n",
      "dropout_19 (Dropout)         (None, 512)               0         \n",
      "_________________________________________________________________\n",
      "dense_24 (Dense)             (None, 256)               131328    \n",
      "_________________________________________________________________\n",
      "dropout_20 (Dropout)         (None, 256)               0         \n",
      "_________________________________________________________________\n",
      "dense_25 (Dense)             (None, 128)               32896     \n",
      "_________________________________________________________________\n",
      "dropout_21 (Dropout)         (None, 128)               0         \n",
      "_________________________________________________________________\n",
      "dense_26 (Dense)             (None, 10)                1290      \n",
      "=================================================================\n",
      "Total params: 24,802,314\n",
      "Trainable params: 24,749,194\n",
      "Non-trainable params: 53,120\n",
      "_________________________________________________________________\n"
     ]
    }
   ],
   "source": [
    "#from keras.applications import ResNet50\n",
    "from tensorflow.keras.applications.resnet50 import ResNet50\n",
    "\n",
    "res_model = Sequential()\n",
    "\n",
    "res = ResNet50(include_top=False, weights='imagenet',input_shape = (32, 32, 3))\n",
    "\n",
    "res_model.add(res)\n",
    "           \n",
    "# Add new layers\n",
    "res_model.add(Flatten())\n",
    "res_model.add(Dense(512, activation='relu'))\n",
    "res_model.add(Dropout(0.5))\n",
    "res_model.add(Dense(256, activation='relu'))\n",
    "res_model.add(Dropout(0.5))\n",
    "res_model.add(Dense(128, activation='relu'))\n",
    "res_model.add(Dropout(0.3))\n",
    "# Output layer\n",
    "res_model.add(Dense(10, activation='softmax'))\n",
    "\n",
    "res_model.summary()     "
   ]
  },
  {
   "cell_type": "code",
   "execution_count": null,
   "metadata": {
    "id": "FMP6SrKeiugt"
   },
   "outputs": [],
   "source": [
    "res_model.compile(loss='categorical_crossentropy',\n",
    "              optimizer=sgd,\n",
    "              metrics=['accuracy'])"
   ]
  },
  {
   "cell_type": "code",
   "execution_count": null,
   "metadata": {
    "id": "riPvFQlKWIQF"
   },
   "outputs": [],
   "source": [
    "from tensorflow.keras.applications.resnet50 import preprocess_input\n",
    "train_X_std_res = preprocess_input(train_X)\n",
    "test_X_std_res = preprocess_input(test_X)"
   ]
  },
  {
   "cell_type": "code",
   "execution_count": null,
   "metadata": {
    "colab": {
     "base_uri": "https://localhost:8080/"
    },
    "executionInfo": {
     "elapsed": 1947569,
     "status": "ok",
     "timestamp": 1633437513745,
     "user": {
      "displayName": "Garima Rahangdale",
      "photoUrl": "https://lh3.googleusercontent.com/a/default-user=s64",
      "userId": "12135158262547382026"
     },
     "user_tz": -330
    },
    "id": "lEOO23SgPvtF",
    "outputId": "ca57ff5c-3372-4556-d5a3-0daa38f30c20"
   },
   "outputs": [
    {
     "name": "stdout",
     "output_type": "stream",
     "text": [
      "Epoch 1/25\n",
      "500/500 [==============================] - 129s 245ms/step - loss: 2.2030 - accuracy: 0.2176 - val_loss: 1.6965 - val_accuracy: 0.3899\n",
      "Epoch 2/25\n",
      "500/500 [==============================] - 73s 147ms/step - loss: 1.5484 - accuracy: 0.4256 - val_loss: 1.2992 - val_accuracy: 0.5245\n",
      "Epoch 3/25\n",
      "500/500 [==============================] - 75s 151ms/step - loss: 1.2452 - accuracy: 0.5619 - val_loss: 1.1113 - val_accuracy: 0.6198\n",
      "Epoch 4/25\n",
      "500/500 [==============================] - 74s 148ms/step - loss: 1.1922 - accuracy: 0.6054 - val_loss: 1.1964 - val_accuracy: 0.5972\n",
      "Epoch 5/25\n",
      "500/500 [==============================] - 75s 151ms/step - loss: 1.0712 - accuracy: 0.6515 - val_loss: 1.4212 - val_accuracy: 0.4998\n",
      "Epoch 6/25\n",
      "500/500 [==============================] - 73s 147ms/step - loss: 0.9649 - accuracy: 0.6894 - val_loss: 1.3205 - val_accuracy: 0.6112\n",
      "Epoch 7/25\n",
      "500/500 [==============================] - 75s 151ms/step - loss: 0.9130 - accuracy: 0.7143 - val_loss: 1.6566 - val_accuracy: 0.5276\n",
      "Epoch 8/25\n",
      "500/500 [==============================] - 75s 151ms/step - loss: 0.7789 - accuracy: 0.7567 - val_loss: 0.7287 - val_accuracy: 0.7630\n",
      "Epoch 9/25\n",
      "500/500 [==============================] - 73s 147ms/step - loss: 0.6905 - accuracy: 0.7873 - val_loss: 1.4015 - val_accuracy: 0.5603\n",
      "Epoch 10/25\n",
      "500/500 [==============================] - 74s 147ms/step - loss: 0.6038 - accuracy: 0.8135 - val_loss: 0.8266 - val_accuracy: 0.7413\n",
      "Epoch 11/25\n",
      "500/500 [==============================] - 76s 151ms/step - loss: 0.5472 - accuracy: 0.8316 - val_loss: 0.7632 - val_accuracy: 0.7573\n",
      "Epoch 12/25\n",
      "500/500 [==============================] - 74s 147ms/step - loss: 0.4157 - accuracy: 0.8726 - val_loss: 0.8315 - val_accuracy: 0.7604\n",
      "Epoch 13/25\n",
      "500/500 [==============================] - 74s 147ms/step - loss: 0.3334 - accuracy: 0.8992 - val_loss: 0.7367 - val_accuracy: 0.7903\n",
      "Epoch 14/25\n",
      "500/500 [==============================] - 75s 151ms/step - loss: 0.2774 - accuracy: 0.9157 - val_loss: 0.8457 - val_accuracy: 0.7693\n",
      "Epoch 15/25\n",
      "500/500 [==============================] - 74s 147ms/step - loss: 0.2835 - accuracy: 0.9153 - val_loss: 0.8908 - val_accuracy: 0.7659\n",
      "Epoch 16/25\n",
      "500/500 [==============================] - 74s 147ms/step - loss: 0.2451 - accuracy: 0.9284 - val_loss: 0.8979 - val_accuracy: 0.7693\n",
      "Epoch 17/25\n",
      "500/500 [==============================] - 76s 151ms/step - loss: 0.1922 - accuracy: 0.9451 - val_loss: 0.8755 - val_accuracy: 0.7879\n",
      "Epoch 18/25\n",
      "500/500 [==============================] - 75s 151ms/step - loss: 0.1888 - accuracy: 0.9460 - val_loss: 0.8448 - val_accuracy: 0.7887\n",
      "Epoch 19/25\n",
      "500/500 [==============================] - 74s 148ms/step - loss: 0.1496 - accuracy: 0.9575 - val_loss: 0.9959 - val_accuracy: 0.7760\n",
      "Epoch 20/25\n",
      "500/500 [==============================] - 75s 151ms/step - loss: 0.1328 - accuracy: 0.9630 - val_loss: 0.9638 - val_accuracy: 0.7879\n",
      "Epoch 21/25\n",
      "500/500 [==============================] - 74s 147ms/step - loss: 0.1224 - accuracy: 0.9658 - val_loss: 0.9784 - val_accuracy: 0.7805\n",
      "Epoch 22/25\n",
      "500/500 [==============================] - 74s 147ms/step - loss: 0.1127 - accuracy: 0.9694 - val_loss: 0.9354 - val_accuracy: 0.7947\n",
      "Epoch 23/25\n",
      "500/500 [==============================] - 74s 147ms/step - loss: 0.0975 - accuracy: 0.9733 - val_loss: 1.0058 - val_accuracy: 0.7961\n",
      "Epoch 24/25\n",
      "500/500 [==============================] - 75s 151ms/step - loss: 0.0956 - accuracy: 0.9743 - val_loss: 1.0412 - val_accuracy: 0.7854\n",
      "Epoch 25/25\n",
      "500/500 [==============================] - 74s 147ms/step - loss: 0.0875 - accuracy: 0.9762 - val_loss: 0.9789 - val_accuracy: 0.7947\n",
      "****** 1948.0277864933014 seconds\n"
     ]
    }
   ],
   "source": [
    "import time\n",
    "start_time = time.time()\n",
    "res_history = res_model.fit(train_X_std_res, train_Y_cat, batch_size =100, epochs= 25,\n",
    "                            validation_data=(test_X_std_res,test_Y_cat))\n",
    "\n",
    "print(\"****** %s seconds\" % (time.time() - start_time))"
   ]
  },
  {
   "cell_type": "code",
   "execution_count": null,
   "metadata": {
    "colab": {
     "base_uri": "https://localhost:8080/"
    },
    "executionInfo": {
     "elapsed": 8454,
     "status": "ok",
     "timestamp": 1633437566778,
     "user": {
      "displayName": "Garima Rahangdale",
      "photoUrl": "https://lh3.googleusercontent.com/a/default-user=s64",
      "userId": "12135158262547382026"
     },
     "user_tz": -330
    },
    "id": "Xk4dYu_ApSjA",
    "outputId": "c26090d4-c43e-45f4-8fff-c53fe6550f05"
   },
   "outputs": [
    {
     "name": "stdout",
     "output_type": "stream",
     "text": [
      "[[846  26  36  10   8   3   4  10  28  29]\n",
      " [ 20 875   4   9   0   2   7   2  14  67]\n",
      " [ 54   2 762  27  47  33  41  27   5   2]\n",
      " [ 35   8  68 572  61 122  73  48   6   7]\n",
      " [ 16   4  56  22 788  17  48  43   4   2]\n",
      " [ 10   3  34 152  44 666  24  61   2   4]\n",
      " [  5   4  33  41  27  12 869   3   3   3]\n",
      " [ 12   3  15  29  34  22   6 870   1   8]\n",
      " [ 68  37  13   8   2   1   3   3 844  21]\n",
      " [ 46  53   3  12   2   3   6   8  12 855]]\n"
     ]
    }
   ],
   "source": [
    "# evaluate the network\n",
    "pred_res = res_model.predict(test_X_std_res, batch_size=32)\n",
    "\n",
    "print(confusion_matrix(test_Y_cat.argmax(axis=1),pred_res.argmax(axis=1)))"
   ]
  },
  {
   "cell_type": "code",
   "execution_count": null,
   "metadata": {
    "colab": {
     "base_uri": "https://localhost:8080/"
    },
    "executionInfo": {
     "elapsed": 1995,
     "status": "ok",
     "timestamp": 1633440782375,
     "user": {
      "displayName": "Garima Rahangdale",
      "photoUrl": "https://lh3.googleusercontent.com/a/default-user=s64",
      "userId": "12135158262547382026"
     },
     "user_tz": -330
    },
    "id": "vb5LIDFK2PVV",
    "outputId": "a352b0d4-fddf-4292-f1a1-f22aad0a6759"
   },
   "outputs": [
    {
     "name": "stdout",
     "output_type": "stream",
     "text": [
      "WARNING:tensorflow:`input_shape` is undefined or non-square, or `rows` is not in [128, 160, 192, 224]. Weights for input shape (224, 224) will be loaded as the default.\n",
      "Downloading data from https://storage.googleapis.com/tensorflow/keras-applications/mobilenet/mobilenet_1_0_224_tf_no_top.h5\n",
      "17227776/17225924 [==============================] - 0s 0us/step\n",
      "17235968/17225924 [==============================] - 0s 0us/step\n"
     ]
    }
   ],
   "source": [
    "from tensorflow.keras.applications import MobileNet\n",
    "\n",
    "mobile = MobileNet(include_top=False, weights='imagenet',\n",
    "            input_shape=(32,32,3), classes=train_Y.shape[1])"
   ]
  },
  {
   "cell_type": "code",
   "execution_count": null,
   "metadata": {
    "colab": {
     "base_uri": "https://localhost:8080/"
    },
    "executionInfo": {
     "elapsed": 39,
     "status": "ok",
     "timestamp": 1633440782376,
     "user": {
      "displayName": "Garima Rahangdale",
      "photoUrl": "https://lh3.googleusercontent.com/a/default-user=s64",
      "userId": "12135158262547382026"
     },
     "user_tz": -330
    },
    "id": "FS2QPjp1O9JB",
    "outputId": "f5774b94-834f-49b8-d19b-d5c1eae68c4d"
   },
   "outputs": [
    {
     "name": "stdout",
     "output_type": "stream",
     "text": [
      "Model: \"sequential_7\"\n",
      "_________________________________________________________________\n",
      "Layer (type)                 Output Shape              Param #   \n",
      "=================================================================\n",
      "mobilenet_1.00_224 (Function (None, 1, 1, 1024)        3228864   \n",
      "_________________________________________________________________\n",
      "dropout_26 (Dropout)         (None, 1, 1, 1024)        0         \n",
      "_________________________________________________________________\n",
      "flatten_7 (Flatten)          (None, 1024)              0         \n",
      "_________________________________________________________________\n",
      "dense_32 (Dense)             (None, 512)               524800    \n",
      "_________________________________________________________________\n",
      "dropout_27 (Dropout)         (None, 512)               0         \n",
      "_________________________________________________________________\n",
      "dense_33 (Dense)             (None, 256)               131328    \n",
      "_________________________________________________________________\n",
      "dropout_28 (Dropout)         (None, 256)               0         \n",
      "_________________________________________________________________\n",
      "dense_34 (Dense)             (None, 128)               32896     \n",
      "_________________________________________________________________\n",
      "dropout_29 (Dropout)         (None, 128)               0         \n",
      "_________________________________________________________________\n",
      "dense_35 (Dense)             (None, 10)                1290      \n",
      "=================================================================\n",
      "Total params: 3,919,178\n",
      "Trainable params: 3,897,290\n",
      "Non-trainable params: 21,888\n",
      "_________________________________________________________________\n"
     ]
    }
   ],
   "source": [
    "model_mobile= Sequential()\n",
    "\n",
    "#Add the base model \n",
    "model_mobile.add(mobile) \n",
    "model_mobile.add(Dropout(0.5))\n",
    "model_mobile.add(Flatten()) \n",
    "\n",
    "model_mobile.add(Dense(512,activation=('relu')))\n",
    "model_mobile.add(Dropout(.5)) #Adding a dropout layer that will randomly drop 50% of the weights\n",
    "model_mobile.add(Dense(256,activation=('relu'))) \n",
    "model_mobile.add(Dropout(.3))\n",
    "model_mobile.add(Dense(128,activation=('relu')))\n",
    "model_mobile.add(Dropout(.3))\n",
    "\n",
    "# Output layer\n",
    "model_mobile.add(Dense(10,activation=('softmax'))) \n",
    "#Check final model summary\n",
    "model_mobile.summary()"
   ]
  },
  {
   "cell_type": "code",
   "execution_count": null,
   "metadata": {
    "id": "KkE_0SDAPK8G"
   },
   "outputs": [],
   "source": [
    "#sgd= optimizers.SGD(lr= 0.001,momentum=.9)\n",
    "model_mobile.compile(optimizer='adam',loss='categorical_crossentropy',metrics=['accuracy'])"
   ]
  },
  {
   "cell_type": "code",
   "execution_count": null,
   "metadata": {
    "colab": {
     "base_uri": "https://localhost:8080/"
    },
    "executionInfo": {
     "elapsed": 459621,
     "status": "ok",
     "timestamp": 1633441250632,
     "user": {
      "displayName": "Garima Rahangdale",
      "photoUrl": "https://lh3.googleusercontent.com/a/default-user=s64",
      "userId": "12135158262547382026"
     },
     "user_tz": -330
    },
    "id": "kJ3gfSFgqGO0",
    "outputId": "d2a72609-8ada-4d76-d249-eafdf7c0586e"
   },
   "outputs": [
    {
     "name": "stdout",
     "output_type": "stream",
     "text": [
      "Epoch 1/25\n",
      "500/500 [==============================] - 22s 38ms/step - loss: 1.5877 - accuracy: 0.4522 - val_loss: 0.9599 - val_accuracy: 0.6803\n",
      "Epoch 2/25\n",
      "500/500 [==============================] - 18s 36ms/step - loss: 0.9375 - accuracy: 0.7109 - val_loss: 0.8164 - val_accuracy: 0.7396\n",
      "Epoch 3/25\n",
      "500/500 [==============================] - 18s 36ms/step - loss: 0.7762 - accuracy: 0.7654 - val_loss: 0.7456 - val_accuracy: 0.7537\n",
      "Epoch 4/25\n",
      "500/500 [==============================] - 18s 36ms/step - loss: 0.6868 - accuracy: 0.7919 - val_loss: 0.7619 - val_accuracy: 0.7575\n",
      "Epoch 5/25\n",
      "500/500 [==============================] - 18s 36ms/step - loss: 0.6248 - accuracy: 0.8120 - val_loss: 0.6921 - val_accuracy: 0.7873\n",
      "Epoch 6/25\n",
      "500/500 [==============================] - 18s 36ms/step - loss: 0.5826 - accuracy: 0.8279 - val_loss: 0.6689 - val_accuracy: 0.7945\n",
      "Epoch 7/25\n",
      "500/500 [==============================] - 18s 36ms/step - loss: 0.5344 - accuracy: 0.8406 - val_loss: 0.7687 - val_accuracy: 0.7779\n",
      "Epoch 8/25\n",
      "500/500 [==============================] - 18s 36ms/step - loss: 0.5062 - accuracy: 0.8498 - val_loss: 0.6716 - val_accuracy: 0.7967\n",
      "Epoch 9/25\n",
      "500/500 [==============================] - 18s 36ms/step - loss: 0.4727 - accuracy: 0.8585 - val_loss: 0.6726 - val_accuracy: 0.7917\n",
      "Epoch 10/25\n",
      "500/500 [==============================] - 18s 36ms/step - loss: 0.4481 - accuracy: 0.8688 - val_loss: 0.8200 - val_accuracy: 0.7699\n",
      "Epoch 11/25\n",
      "500/500 [==============================] - 18s 36ms/step - loss: 0.4079 - accuracy: 0.8781 - val_loss: 0.6580 - val_accuracy: 0.8069\n",
      "Epoch 12/25\n",
      "500/500 [==============================] - 18s 36ms/step - loss: 0.3852 - accuracy: 0.8872 - val_loss: 0.6739 - val_accuracy: 0.7947\n",
      "Epoch 13/25\n",
      "500/500 [==============================] - 18s 37ms/step - loss: 0.3630 - accuracy: 0.8930 - val_loss: 0.6846 - val_accuracy: 0.8009\n",
      "Epoch 14/25\n",
      "500/500 [==============================] - 18s 36ms/step - loss: 0.3378 - accuracy: 0.9016 - val_loss: 0.6620 - val_accuracy: 0.8018\n",
      "Epoch 15/25\n",
      "500/500 [==============================] - 18s 36ms/step - loss: 0.2977 - accuracy: 0.9131 - val_loss: 0.8343 - val_accuracy: 0.7949\n",
      "Epoch 16/25\n",
      "500/500 [==============================] - 18s 36ms/step - loss: 0.3214 - accuracy: 0.9058 - val_loss: 0.7528 - val_accuracy: 0.7895\n",
      "Epoch 17/25\n",
      "500/500 [==============================] - 18s 36ms/step - loss: 0.3038 - accuracy: 0.9120 - val_loss: 0.6823 - val_accuracy: 0.8075\n",
      "Epoch 18/25\n",
      "500/500 [==============================] - 18s 36ms/step - loss: 0.2527 - accuracy: 0.9271 - val_loss: 0.6945 - val_accuracy: 0.8086\n",
      "Epoch 19/25\n",
      "500/500 [==============================] - 18s 36ms/step - loss: 0.2410 - accuracy: 0.9317 - val_loss: 0.6226 - val_accuracy: 0.8287\n",
      "Epoch 20/25\n",
      "500/500 [==============================] - 18s 36ms/step - loss: 0.2305 - accuracy: 0.9347 - val_loss: 0.6927 - val_accuracy: 0.8119\n",
      "Epoch 21/25\n",
      "500/500 [==============================] - 18s 36ms/step - loss: 0.2185 - accuracy: 0.9380 - val_loss: 0.6597 - val_accuracy: 0.8209\n",
      "Epoch 22/25\n",
      "500/500 [==============================] - 18s 36ms/step - loss: 0.2060 - accuracy: 0.9422 - val_loss: 0.7341 - val_accuracy: 0.7948\n",
      "Epoch 23/25\n",
      "500/500 [==============================] - 18s 36ms/step - loss: 0.2187 - accuracy: 0.9385 - val_loss: 0.7312 - val_accuracy: 0.8226\n",
      "Epoch 24/25\n",
      "500/500 [==============================] - 18s 36ms/step - loss: 0.1889 - accuracy: 0.9460 - val_loss: 0.7939 - val_accuracy: 0.8306\n",
      "Epoch 25/25\n",
      "500/500 [==============================] - 18s 36ms/step - loss: 0.1869 - accuracy: 0.9477 - val_loss: 0.7321 - val_accuracy: 0.8080\n",
      "****** 459.36033153533936 seconds\n"
     ]
    }
   ],
   "source": [
    "import time\n",
    "start_time = time.time()\n",
    "mobile_history = model_mobile.fit(train_X, train_Y_cat, batch_size =100, epochs= 25,\n",
    "                            validation_data=(test_X,test_Y_cat))\n",
    "\n",
    "print(\"****** %s seconds\" % (time.time() - start_time))"
   ]
  },
  {
   "cell_type": "code",
   "execution_count": null,
   "metadata": {
    "colab": {
     "base_uri": "https://localhost:8080/"
    },
    "executionInfo": {
     "elapsed": 3036,
     "status": "ok",
     "timestamp": 1633441369871,
     "user": {
      "displayName": "Garima Rahangdale",
      "photoUrl": "https://lh3.googleusercontent.com/a/default-user=s64",
      "userId": "12135158262547382026"
     },
     "user_tz": -330
    },
    "id": "K7UDiSh0QB4K",
    "outputId": "910fc29a-c862-4493-bad4-b28fff9f14bf"
   },
   "outputs": [
    {
     "name": "stdout",
     "output_type": "stream",
     "text": [
      "[[827  43  13   5   1   0   2   4  75  30]\n",
      " [  3 936   1   0   0   2   1   0   4  53]\n",
      " [ 69  11 777  34  20  16  43   8  15   7]\n",
      " [ 38   9  52 635  21 106  63  28  25  23]\n",
      " [ 35   5  70  79 660  23  53  54  18   3]\n",
      " [ 14   4  41 150  15 688  24  37   9  18]\n",
      " [ 10  11  16  46   7   8 881   8   8   5]\n",
      " [ 25   4  21  20  17  20   5 866   2  20]\n",
      " [ 26  27   7   4   0   2   1   3 903  27]\n",
      " [ 18  48   5   3   0   0   3   5  11 907]]\n"
     ]
    }
   ],
   "source": [
    "# evaluate the network\n",
    "from sklearn.metrics import classification_report, confusion_matrix\n",
    "pred_mob = model_mobile.predict(test_X, batch_size=32)\n",
    "\n",
    "print(confusion_matrix(test_Y_cat.argmax(axis=1),pred_mob.argmax(axis=1)))"
   ]
  },
  {
   "cell_type": "code",
   "execution_count": null,
   "metadata": {
    "id": "_oUFrQTR3EhI"
   },
   "outputs": [],
   "source": [
    "# DenseNet169\n",
    "from tensorflow.keras.applications  import DenseNet169 \n",
    "dense = DenseNet169(input_shape = (32, 32, 3), \n",
    "                                include_top = False, \n",
    "                                weights='imagenet')\n",
    "\n",
    "#for layer in dense.layers[:-15]:\n",
    "#    layer.trainable = False"
   ]
  },
  {
   "cell_type": "code",
   "execution_count": null,
   "metadata": {
    "colab": {
     "base_uri": "https://localhost:8080/"
    },
    "executionInfo": {
     "elapsed": 15,
     "status": "ok",
     "timestamp": 1633437603172,
     "user": {
      "displayName": "Garima Rahangdale",
      "photoUrl": "https://lh3.googleusercontent.com/a/default-user=s64",
      "userId": "12135158262547382026"
     },
     "user_tz": -330
    },
    "id": "98aiOWZDYA3e",
    "outputId": "0abddac3-25c9-4acf-f7a1-e08be3280663"
   },
   "outputs": [
    {
     "data": {
      "text/plain": [
       "595"
      ]
     },
     "execution_count": 57,
     "metadata": {},
     "output_type": "execute_result"
    }
   ],
   "source": [
    "len(dense.layers)"
   ]
  },
  {
   "cell_type": "code",
   "execution_count": null,
   "metadata": {
    "colab": {
     "base_uri": "https://localhost:8080/"
    },
    "executionInfo": {
     "elapsed": 2820,
     "status": "ok",
     "timestamp": 1633437608047,
     "user": {
      "displayName": "Garima Rahangdale",
      "photoUrl": "https://lh3.googleusercontent.com/a/default-user=s64",
      "userId": "12135158262547382026"
     },
     "user_tz": -330
    },
    "id": "3QuSPj6IP0Eh",
    "outputId": "c0b564da-3cb1-475d-bd5a-c6fae6d32b16"
   },
   "outputs": [
    {
     "name": "stdout",
     "output_type": "stream",
     "text": [
      "Model: \"sequential_6\"\n",
      "_________________________________________________________________\n",
      "Layer (type)                 Output Shape              Param #   \n",
      "=================================================================\n",
      "densenet169 (Functional)     (None, 1, 1, 1664)        12642880  \n",
      "_________________________________________________________________\n",
      "flatten_6 (Flatten)          (None, 1664)              0         \n",
      "_________________________________________________________________\n",
      "dense_27 (Dense)             (None, 512)               852480    \n",
      "_________________________________________________________________\n",
      "dropout_22 (Dropout)         (None, 512)               0         \n",
      "_________________________________________________________________\n",
      "batch_normalization_2 (Batch (None, 512)               2048      \n",
      "_________________________________________________________________\n",
      "dense_28 (Dense)             (None, 256)               131328    \n",
      "_________________________________________________________________\n",
      "dropout_23 (Dropout)         (None, 256)               0         \n",
      "_________________________________________________________________\n",
      "batch_normalization_3 (Batch (None, 256)               1024      \n",
      "_________________________________________________________________\n",
      "dense_29 (Dense)             (None, 128)               32896     \n",
      "_________________________________________________________________\n",
      "dropout_24 (Dropout)         (None, 128)               0         \n",
      "_________________________________________________________________\n",
      "dense_30 (Dense)             (None, 128)               16512     \n",
      "_________________________________________________________________\n",
      "dropout_25 (Dropout)         (None, 128)               0         \n",
      "_________________________________________________________________\n",
      "dense_31 (Dense)             (None, 10)                1290      \n",
      "=================================================================\n",
      "Total params: 13,680,458\n",
      "Trainable params: 13,520,522\n",
      "Non-trainable params: 159,936\n",
      "_________________________________________________________________\n"
     ]
    }
   ],
   "source": [
    "model_dense= Sequential()\n",
    "model_dense.add(dense)\n",
    "\n",
    "model_dense.add(Flatten()) \n",
    "\n",
    "model_dense.add(Dense(512,activation=('relu')))\n",
    "model_dense.add(Dropout(.5))\n",
    "model_dense.add(BatchNormalization())\n",
    "model_dense.add(Dense(256,activation=('relu')))\n",
    "model_dense.add(Dropout(.3)) \n",
    "model_dense.add(BatchNormalization())\n",
    "model_dense.add(Dense(128,activation=('relu'))) \n",
    "model_dense.add(Dropout(.3))\n",
    "model_dense.add(Dense(128,activation=('relu')))\n",
    "model_dense.add(Dropout(.3))\n",
    "\n",
    "# Output layer\n",
    "model_dense.add(Dense(10,activation=('softmax'))) \n",
    "\n",
    "#Check final model summary\n",
    "model_dense.summary()"
   ]
  },
  {
   "cell_type": "code",
   "execution_count": null,
   "metadata": {
    "id": "7X1T71P_QTfd"
   },
   "outputs": [],
   "source": [
    "sgd= optimizers.SGD(lr=0.01,momentum=.8)\n",
    "model_dense.compile(optimizer=sgd,loss='categorical_crossentropy',metrics=['accuracy'])"
   ]
  },
  {
   "cell_type": "code",
   "execution_count": null,
   "metadata": {
    "colab": {
     "base_uri": "https://localhost:8080/"
    },
    "executionInfo": {
     "elapsed": 2564646,
     "status": "ok",
     "timestamp": 1633440187240,
     "user": {
      "displayName": "Garima Rahangdale",
      "photoUrl": "https://lh3.googleusercontent.com/a/default-user=s64",
      "userId": "12135158262547382026"
     },
     "user_tz": -330
    },
    "id": "CRVFmwsfeBcX",
    "outputId": "f2993b07-2275-4ed4-8eaa-fa34d0c3fa84"
   },
   "outputs": [
    {
     "name": "stdout",
     "output_type": "stream",
     "text": [
      "Epoch 1/25\n",
      "500/500 [==============================] - 124s 209ms/step - loss: 1.8374 - accuracy: 0.2937 - val_loss: 1.3980 - val_accuracy: 0.4524\n",
      "Epoch 2/25\n",
      "500/500 [==============================] - 101s 203ms/step - loss: 1.1154 - accuracy: 0.6128 - val_loss: 1.1582 - val_accuracy: 0.6087\n",
      "Epoch 3/25\n",
      "500/500 [==============================] - 101s 203ms/step - loss: 0.9387 - accuracy: 0.7012 - val_loss: 0.9004 - val_accuracy: 0.7064\n",
      "Epoch 4/25\n",
      "500/500 [==============================] - 102s 204ms/step - loss: 0.7561 - accuracy: 0.7644 - val_loss: 0.7257 - val_accuracy: 0.7671\n",
      "Epoch 5/25\n",
      "500/500 [==============================] - 102s 203ms/step - loss: 0.7358 - accuracy: 0.7729 - val_loss: 8.9283 - val_accuracy: 0.4681\n",
      "Epoch 6/25\n",
      "500/500 [==============================] - 102s 203ms/step - loss: 0.6333 - accuracy: 0.8051 - val_loss: 0.6766 - val_accuracy: 0.7929\n",
      "Epoch 7/25\n",
      "500/500 [==============================] - 101s 203ms/step - loss: 0.4988 - accuracy: 0.8496 - val_loss: 0.6211 - val_accuracy: 0.8042\n",
      "Epoch 8/25\n",
      "500/500 [==============================] - 102s 204ms/step - loss: 0.4177 - accuracy: 0.8724 - val_loss: 0.5747 - val_accuracy: 0.8214\n",
      "Epoch 9/25\n",
      "500/500 [==============================] - 102s 204ms/step - loss: 0.4253 - accuracy: 0.8729 - val_loss: 0.9108 - val_accuracy: 0.7314\n",
      "Epoch 10/25\n",
      "500/500 [==============================] - 101s 202ms/step - loss: 0.3846 - accuracy: 0.8848 - val_loss: 0.6587 - val_accuracy: 0.7998\n",
      "Epoch 11/25\n",
      "500/500 [==============================] - 101s 203ms/step - loss: 0.3871 - accuracy: 0.8837 - val_loss: 0.7082 - val_accuracy: 0.7826\n",
      "Epoch 12/25\n",
      "500/500 [==============================] - 102s 205ms/step - loss: 0.3272 - accuracy: 0.9017 - val_loss: 0.5940 - val_accuracy: 0.8239\n",
      "Epoch 13/25\n",
      "500/500 [==============================] - 102s 203ms/step - loss: 0.2618 - accuracy: 0.9219 - val_loss: 0.6099 - val_accuracy: 0.8189\n",
      "Epoch 14/25\n",
      "500/500 [==============================] - 102s 203ms/step - loss: 0.2310 - accuracy: 0.9322 - val_loss: 0.6619 - val_accuracy: 0.8230\n",
      "Epoch 15/25\n",
      "500/500 [==============================] - 102s 203ms/step - loss: 0.2161 - accuracy: 0.9364 - val_loss: 0.5969 - val_accuracy: 0.8334\n",
      "Epoch 16/25\n",
      "500/500 [==============================] - 102s 204ms/step - loss: 0.1881 - accuracy: 0.9456 - val_loss: 0.8717 - val_accuracy: 0.7749\n",
      "Epoch 17/25\n",
      "500/500 [==============================] - 102s 203ms/step - loss: 0.1739 - accuracy: 0.9511 - val_loss: 0.7116 - val_accuracy: 0.8160\n",
      "Epoch 18/25\n",
      "500/500 [==============================] - 101s 203ms/step - loss: 0.1572 - accuracy: 0.9552 - val_loss: 0.7898 - val_accuracy: 0.8070\n",
      "Epoch 19/25\n",
      "500/500 [==============================] - 101s 203ms/step - loss: 0.5149 - accuracy: 0.8491 - val_loss: 0.9839 - val_accuracy: 0.6811\n",
      "Epoch 20/25\n",
      "500/500 [==============================] - 102s 204ms/step - loss: 0.5110 - accuracy: 0.8423 - val_loss: 4.5056 - val_accuracy: 0.7028\n",
      "Epoch 21/25\n",
      "500/500 [==============================] - 102s 203ms/step - loss: 0.4827 - accuracy: 0.8526 - val_loss: 0.7564 - val_accuracy: 0.7654\n",
      "Epoch 22/25\n",
      "500/500 [==============================] - 101s 203ms/step - loss: 0.3008 - accuracy: 0.9074 - val_loss: 0.7494 - val_accuracy: 0.7988\n",
      "Epoch 23/25\n",
      "500/500 [==============================] - 101s 203ms/step - loss: 0.1976 - accuracy: 0.9414 - val_loss: 0.6750 - val_accuracy: 0.8228\n",
      "Epoch 24/25\n",
      "500/500 [==============================] - 102s 204ms/step - loss: 0.1513 - accuracy: 0.9551 - val_loss: 0.8379 - val_accuracy: 0.7948\n",
      "Epoch 25/25\n",
      "500/500 [==============================] - 101s 203ms/step - loss: 0.1360 - accuracy: 0.9597 - val_loss: 0.8452 - val_accuracy: 0.7987\n",
      "****** 2564.1831333637238 seconds\n"
     ]
    }
   ],
   "source": [
    "start_time = time.time()\n",
    "history = model_dense.fit(train_X_std, train_Y_cat, batch_size =100, epochs= 25,\n",
    "                            validation_data=(test_X_std,test_Y_cat))\n",
    "\n",
    "print(\"****** %s seconds\" % (time.time() - start_time))"
   ]
  },
  {
   "cell_type": "code",
   "execution_count": null,
   "metadata": {
    "colab": {
     "base_uri": "https://localhost:8080/"
    },
    "executionInfo": {
     "elapsed": 15606,
     "status": "ok",
     "timestamp": 1633440698149,
     "user": {
      "displayName": "Garima Rahangdale",
      "photoUrl": "https://lh3.googleusercontent.com/a/default-user=s64",
      "userId": "12135158262547382026"
     },
     "user_tz": -330
    },
    "id": "V00RGTpWQwsM",
    "outputId": "a86a5c5a-1472-476c-ec4b-e27a1357e8e2"
   },
   "outputs": [
    {
     "name": "stdout",
     "output_type": "stream",
     "text": [
      "[[905   6  26   5   2   0   1   4  40  11]\n",
      " [ 19 872   1   0   0   0   1   1  33  73]\n",
      " [ 46   4 820  26  48  12  11  12  12   9]\n",
      " [ 37  12  75 656  42  55  29  27  32  35]\n",
      " [ 36   4  70  35 774   4   9  46  18   4]\n",
      " [ 23  10  65 206  22 518  21  49  29  57]\n",
      " [ 16   9  72  31  25   5 804   3  24  11]\n",
      " [ 33   1  23  29  19  12   3 844   6  30]\n",
      " [ 48   5  12   4   2   0   0   0 917  12]\n",
      " [ 51  36   0   5   0   0   1   2  28 877]]\n"
     ]
    }
   ],
   "source": [
    "# evaluate the network\n",
    "pred_dense = model_dense.predict(test_X_std, batch_size=32)\n",
    "\n",
    "print(confusion_matrix(test_Y_cat.argmax(axis=1),pred_dense.argmax(axis=1)))"
   ]
  },
  {
   "cell_type": "code",
   "execution_count": null,
   "metadata": {
    "id": "GaIDAeInZWW3"
   },
   "outputs": [],
   "source": []
  }
 ],
 "metadata": {
  "accelerator": "GPU",
  "colab": {
   "collapsed_sections": [
    "OagPLLELooU_",
    "9ds67Hbm3UeT",
    "P-QdqVU14ioH",
    "LP5SeIm95Kyh",
    "dWZjnBWS6bFV",
    "bMahUGeqfAyK",
    "3ft42OrU2Ndy"
   ],
   "machine_shape": "hm",
   "name": "CV-Week-3-Video-4-Transfer-Learning.ipynb",
   "provenance": []
  },
  "kernelspec": {
   "display_name": "Python 3 (ipykernel)",
   "language": "python",
   "name": "python3"
  },
  "language_info": {
   "codemirror_mode": {
    "name": "ipython",
    "version": 3
   },
   "file_extension": ".py",
   "mimetype": "text/x-python",
   "name": "python",
   "nbconvert_exporter": "python",
   "pygments_lexer": "ipython3",
   "version": "3.10.4"
  }
 },
 "nbformat": 4,
 "nbformat_minor": 1
}
